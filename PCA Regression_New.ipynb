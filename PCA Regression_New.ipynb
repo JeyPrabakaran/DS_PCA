{
 "cells": [
  {
   "cell_type": "code",
   "execution_count": 10,
   "id": "2f5ea3ed-9a93-4277-ad6a-84a8b8cbac45",
   "metadata": {},
   "outputs": [],
   "source": [
    "import pandas as pd\n",
    "from sklearn.model_selection import train_test_split\n",
    "from sklearn.preprocessing import StandardScaler\n",
    "from sklearn.decomposition import PCA\n",
    "from sklearn.metrics import r2_score\n",
    "from sklearn.linear_model import LinearRegression\n",
    "from sklearn.svm import SVR\n",
    "from sklearn.tree import DecisionTreeRegressor\n",
    "from sklearn.ensemble import RandomForestRegressor"
   ]
  },
  {
   "cell_type": "code",
   "execution_count": 11,
   "id": "f7bbbece-6781-4c3d-9e35-f3c49a0bbd28",
   "metadata": {},
   "outputs": [],
   "source": [
    "# Function for splitting the data and applying PCA\n",
    "def split_pca(indep_X, dep_Y, n_components=2):\n",
    "    X_train, X_test, y_train, y_test = train_test_split(indep_X, dep_Y, test_size=0.25, random_state=0)\n",
    "    sc = StandardScaler()\n",
    "    X_train = sc.fit_transform(X_train)\n",
    "    X_test = sc.transform(X_test)\n",
    "    \n",
    "    pca = PCA(n_components=n_components)\n",
    "    X_train_pca = pca.fit_transform(X_train)\n",
    "    X_test_pca = pca.transform(X_test)\n",
    "    \n",
    "    return X_train_pca, X_test_pca, y_train, y_test"
   ]
  },
  {
   "cell_type": "code",
   "execution_count": 12,
   "id": "c42b3a3c-6d5f-405e-a6d9-f8b7dbfcd8aa",
   "metadata": {},
   "outputs": [],
   "source": [
    "# Function for calculating R2 score\n",
    "def r2_prediction(regressor, X_test, y_test):\n",
    "    y_pred = regressor.predict(X_test)\n",
    "    r2 = r2_score(y_test, y_pred)\n",
    "    return r2"
   ]
  },
  {
   "cell_type": "code",
   "execution_count": 13,
   "id": "7c2fb954-70a1-4d2e-bf96-2e3e0213dfbe",
   "metadata": {},
   "outputs": [],
   "source": [
    "# Regression models\n",
    "def linear(X_train, y_train, X_test, y_test):\n",
    "    regressor = LinearRegression()\n",
    "    regressor.fit(X_train, y_train)\n",
    "    return r2_prediction(regressor, X_test, y_test)"
   ]
  },
  {
   "cell_type": "code",
   "execution_count": 14,
   "id": "090c3435-88cf-4064-9164-86f3927a5d6e",
   "metadata": {},
   "outputs": [],
   "source": [
    "def svm_linear(X_train, y_train, X_test, y_test):\n",
    "    regressor = SVR(kernel='linear')\n",
    "    regressor.fit(X_train, y_train)\n",
    "    return r2_prediction(regressor, X_test, y_test)"
   ]
  },
  {
   "cell_type": "code",
   "execution_count": 15,
   "id": "48d11a34-f794-41f9-8c27-4685c343f820",
   "metadata": {},
   "outputs": [],
   "source": [
    "def svm_nl(X_train, y_train, X_test, y_test):\n",
    "    regressor = SVR(kernel='rbf')\n",
    "    regressor.fit(X_train, y_train)\n",
    "    return r2_prediction(regressor, X_test, y_test)"
   ]
  },
  {
   "cell_type": "code",
   "execution_count": 16,
   "id": "d3ad68d7-d3d6-451a-9ca5-0112455e6330",
   "metadata": {},
   "outputs": [],
   "source": [
    "def decision_tree(X_train, y_train, X_test, y_test):\n",
    "    regressor = DecisionTreeRegressor(random_state=0)\n",
    "    regressor.fit(X_train, y_train)\n",
    "    return r2_prediction(regressor, X_test, y_test)"
   ]
  },
  {
   "cell_type": "code",
   "execution_count": 17,
   "id": "592348f8-c943-4dfb-b7ff-29c9bcdcb18d",
   "metadata": {},
   "outputs": [],
   "source": [
    "def random_forest(X_train, y_train, X_test, y_test):\n",
    "    regressor = RandomForestRegressor(n_estimators=10, random_state=0)\n",
    "    regressor.fit(X_train, y_train)\n",
    "    return r2_prediction(regressor, X_test, y_test)"
   ]
  },
  {
   "cell_type": "code",
   "execution_count": 18,
   "id": "bebb3dbb-e7c0-4e3a-8fec-5a28e000f30d",
   "metadata": {},
   "outputs": [],
   "source": [
    "# Aggregating the results\n",
    "def pca_regression(acclin, accsvml, accsvmnl, accdes, accrf, n_components): \n",
    "    dataframe = pd.DataFrame(index=[f'PCA-{n_components}'], columns=['Linear', 'SVMl', 'SVMnl', 'Decision', 'Random'])\n",
    "    \n",
    "    dataframe['Linear'] = acclin\n",
    "    dataframe['SVMl'] = accsvml\n",
    "    dataframe['SVMnl'] = accsvmnl\n",
    "    dataframe['Decision'] = accdes\n",
    "    dataframe['Random'] = accrf\n",
    "    \n",
    "    return dataframe\n"
   ]
  },
  {
   "cell_type": "code",
   "execution_count": 19,
   "id": "76b9bbd8-43d4-448a-9d2b-dc2052a347bd",
   "metadata": {},
   "outputs": [],
   "source": [
    "# Loading the Wine dataset\n",
    "dataset = pd.read_csv(\"Wine.csv\")\n",
    "indep_X = dataset.iloc[:, 0:13].values\n",
    "dep_Y = dataset.iloc[:, 13].values"
   ]
  },
  {
   "cell_type": "code",
   "execution_count": 21,
   "id": "2882baed-13b2-4329-a8f9-96c13c903fe3",
   "metadata": {},
   "outputs": [
    {
     "name": "stdout",
     "output_type": "stream",
     "text": [
      "[[1.423e+01 1.710e+00 2.430e+00 ... 1.040e+00 3.920e+00 1.065e+03]\n",
      " [1.320e+01 1.780e+00 2.140e+00 ... 1.050e+00 3.400e+00 1.050e+03]\n",
      " [1.316e+01 2.360e+00 2.670e+00 ... 1.030e+00 3.170e+00 1.185e+03]\n",
      " ...\n",
      " [1.327e+01 4.280e+00 2.260e+00 ... 5.900e-01 1.560e+00 8.350e+02]\n",
      " [1.317e+01 2.590e+00 2.370e+00 ... 6.000e-01 1.620e+00 8.400e+02]\n",
      " [1.413e+01 4.100e+00 2.740e+00 ... 6.100e-01 1.600e+00 5.600e+02]]\n"
     ]
    }
   ],
   "source": [
    "print(indep_X)"
   ]
  },
  {
   "cell_type": "code",
   "execution_count": 22,
   "id": "b36535a2-e9f0-471e-8fab-98a237a86c6d",
   "metadata": {},
   "outputs": [
    {
     "name": "stdout",
     "output_type": "stream",
     "text": [
      "[1 1 1 1 1 1 1 1 1 1 1 1 1 1 1 1 1 1 1 1 1 1 1 1 1 1 1 1 1 1 1 1 1 1 1 1 1\n",
      " 1 1 1 1 1 1 1 1 1 1 1 1 1 1 1 1 1 1 1 1 1 1 2 2 2 2 2 2 2 2 2 2 2 2 2 2 2\n",
      " 2 2 2 2 2 2 2 2 2 2 2 2 2 2 2 2 2 2 2 2 2 2 2 2 2 2 2 2 2 2 2 2 2 2 2 2 2\n",
      " 2 2 2 2 2 2 2 2 2 2 2 2 2 2 2 2 2 2 2 3 3 3 3 3 3 3 3 3 3 3 3 3 3 3 3 3 3\n",
      " 3 3 3 3 3 3 3 3 3 3 3 3 3 3 3 3 3 3 3 3 3 3 3 3 3 3 3 3 3 3]\n"
     ]
    }
   ],
   "source": [
    "print(dep_Y)"
   ]
  },
  {
   "cell_type": "code",
   "execution_count": 20,
   "id": "7db834f2-927d-4763-b953-7076ecb67a87",
   "metadata": {},
   "outputs": [
    {
     "name": "stdout",
     "output_type": "stream",
     "text": [
      "PCA Results:\n",
      "          Linear      SVMl     SVMnl  Decision    Random\n",
      "PCA-2  0.728888  0.725487  0.941336  0.955709  0.949951\n",
      "PCA-3  0.729204  0.725924  0.957257  0.911417  0.940207\n",
      "PCA-4  0.717897  0.712801  0.945427  0.955709  0.937992\n",
      "PCA-5  0.745386  0.743062  0.940851  0.955709  0.941093\n",
      "PCA-6  0.762643  0.763442  0.942069  0.867126  0.939764\n"
     ]
    }
   ],
   "source": [
    "# Loop over PCA components from 2 to 6\n",
    "results = []\n",
    "\n",
    "for n in range(2, 7):\n",
    "    acclin = []\n",
    "    accsvml = []\n",
    "    accsvmnl = []\n",
    "    accdes = []\n",
    "    accrf = []\n",
    "\n",
    "    X_train_pca, X_test_pca, y_train, y_test = split_pca(indep_X, dep_Y, n_components=n)\n",
    "    \n",
    "    acclin.append(linear(X_train_pca, y_train, X_test_pca, y_test))\n",
    "    accsvml.append(svm_linear(X_train_pca, y_train, X_test_pca, y_test))\n",
    "    accsvmnl.append(svm_nl(X_train_pca, y_train, X_test_pca, y_test))\n",
    "    accdes.append(decision_tree(X_train_pca, y_train, X_test_pca, y_test))\n",
    "    accrf.append(random_forest(X_train_pca, y_train, X_test_pca, y_test))\n",
    "    \n",
    "    result = pca_regression(acclin, accsvml, accsvmnl, accdes, accrf, n_components=n)\n",
    "    results.append(result)\n",
    "\n",
    "# Combine all results into a single DataFrame\n",
    "final_results = pd.concat(results)\n",
    "print(\"PCA Results:\\n\", final_results)\n"
   ]
  },
  {
   "cell_type": "code",
   "execution_count": null,
   "id": "3477d5dc-2c5a-4d31-8ecb-42d0aeb2d347",
   "metadata": {},
   "outputs": [],
   "source": []
  }
 ],
 "metadata": {
  "kernelspec": {
   "display_name": "Python 3 (ipykernel)",
   "language": "python",
   "name": "python3"
  },
  "language_info": {
   "codemirror_mode": {
    "name": "ipython",
    "version": 3
   },
   "file_extension": ".py",
   "mimetype": "text/x-python",
   "name": "python",
   "nbconvert_exporter": "python",
   "pygments_lexer": "ipython3",
   "version": "3.12.4"
  }
 },
 "nbformat": 4,
 "nbformat_minor": 5
}
