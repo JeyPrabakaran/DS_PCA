{
 "cells": [
  {
   "cell_type": "code",
   "execution_count": 18,
   "id": "274addc0-ef9e-4c2e-863f-476b5b6a7b35",
   "metadata": {},
   "outputs": [],
   "source": [
    "import pandas as pd\n",
    "from sklearn.model_selection import train_test_split\n",
    "from sklearn.preprocessing import StandardScaler\n",
    "from sklearn.decomposition import PCA\n",
    "from sklearn.metrics import confusion_matrix, accuracy_score, classification_report\n",
    "from sklearn.linear_model import LogisticRegression\n",
    "from sklearn.svm import SVC\n",
    "from sklearn.naive_bayes import GaussianNB\n",
    "from sklearn.neighbors import KNeighborsClassifier\n",
    "from sklearn.tree import DecisionTreeClassifier\n",
    "from sklearn.ensemble import RandomForestClassifier"
   ]
  },
  {
   "cell_type": "code",
   "execution_count": 19,
   "id": "446c02db-b7cd-4201-ba0a-1b33b0285a9b",
   "metadata": {},
   "outputs": [],
   "source": [
    "# Function to perform PCA and split the dataset\n",
    "def split_pca(indep_X, dep_Y, n_components=2):\n",
    "    X_train, X_test, y_train, y_test = train_test_split(indep_X, dep_Y, test_size=0.25, random_state=0)\n",
    "    #splits the dataset into training and testing sets, with 25% of the data allocated to the test set\n",
    "    sc = StandardScaler()#standardizes the features by removing the mean and scaling to unit variance.\n",
    "    \n",
    "    X_train = sc.fit_transform(X_train)\n",
    "    X_test = sc.transform(X_test)\n",
    "    \n",
    "    pca = PCA(n_components=n_components)\n",
    "    X_train_pca = pca.fit_transform(X_train)\n",
    "    X_test_pca = pca.transform(X_test)\n",
    "    #X_train is fitted and transformed using sc.fit_transform(X_train), \n",
    "    #and X_test is transformed using the scaler fitted on the training data with sc.transform(X_test).\n",
    "    return X_train_pca, X_test_pca, y_train, y_test"
   ]
  },
  {
   "cell_type": "code",
   "execution_count": 20,
   "id": "fc451784-a7ed-417b-801e-d8eac7076d5c",
   "metadata": {},
   "outputs": [],
   "source": [
    "# Function for evaluating the model\n",
    "def cm_prediction(classifier, X_test, y_test):\n",
    "    y_pred = classifier.predict(X_test) #uses the trained classifier to predict the labels for the test set (X_test).\n",
    "    cm = confusion_matrix(y_test, y_pred) #calculates the confusion matrix, which shows the counts of true positive, true negative, false positive, and false negative predictions.\n",
    "    Accuracy = accuracy_score(y_test, y_pred) #computes the accuracy of the model, which is the ratio of correctly predicted instances to the total instances.\n",
    "    report = classification_report(y_test, y_pred) #generates a text report showing the main classification metrics, including precision, recall, and F1-score for each class.\n",
    "    return classifier, Accuracy, report, cm"
   ]
  },
  {
   "cell_type": "code",
   "execution_count": 21,
   "id": "1ff14295-53a0-4edd-9bb4-d7d9c88738bc",
   "metadata": {},
   "outputs": [],
   "source": [
    "# Classification models\n",
    "def logistic(X_train, y_train, X_test, y_test):       \n",
    "    classifier = LogisticRegression(random_state=0) #nitializes a logistic regression model. The random_state=0 ensures that the results\n",
    "    #are reproducible.\n",
    "    classifier.fit(X_train, y_train) #trains the logistic regression model on the training data (X_train and y_train).\n",
    "    return cm_prediction(classifier, X_test, y_test)\n",
    "    #returns the results of cm_prediction(classifier, X_test, y_test), which evaluates the trained model on the test data (X_test and y_test) \n",
    "    #and provides the classifier, accuracy score, classification report, and confusion matrix."
   ]
  },
  {
   "cell_type": "code",
   "execution_count": 22,
   "id": "2ec00e00-0b99-474a-ab7e-d54d3d993e60",
   "metadata": {},
   "outputs": [],
   "source": [
    "def svm_linear(X_train, y_train, X_test, y_test):\n",
    "    classifier = SVC(kernel='linear', random_state=0) \n",
    "    classifier.fit(X_train, y_train)\n",
    "    return cm_prediction(classifier, X_test, y_test)"
   ]
  },
  {
   "cell_type": "code",
   "execution_count": 23,
   "id": "589cdea8-5d5b-471f-b25f-bef280569bd1",
   "metadata": {},
   "outputs": [],
   "source": [
    "def svm_nl(X_train, y_train, X_test, y_test):\n",
    "    classifier = SVC(kernel='rbf', random_state=0)\n",
    "    classifier.fit(X_train, y_train)\n",
    "    return cm_prediction(classifier, X_test, y_test)"
   ]
  },
  {
   "cell_type": "code",
   "execution_count": 24,
   "id": "369bbdd3-1e35-4111-ae0b-73b832a5133b",
   "metadata": {},
   "outputs": [],
   "source": [
    "def navie(X_train, y_train, X_test, y_test):       \n",
    "    classifier = GaussianNB()\n",
    "    classifier.fit(X_train, y_train)\n",
    "    return cm_prediction(classifier, X_test, y_test)"
   ]
  },
  {
   "cell_type": "code",
   "execution_count": 25,
   "id": "f3b58815-7c8b-4d47-968d-5422ef5c184a",
   "metadata": {},
   "outputs": [],
   "source": [
    "def knn(X_train, y_train, X_test, y_test):\n",
    "    classifier = KNeighborsClassifier(n_neighbors=5, metric='minkowski', p=2)\n",
    "    classifier.fit(X_train, y_train)\n",
    "    return cm_prediction(classifier, X_test, y_test)"
   ]
  },
  {
   "cell_type": "code",
   "execution_count": 26,
   "id": "a9bc346e-b905-4895-b3e5-47580f9a2706",
   "metadata": {},
   "outputs": [],
   "source": [
    "def decision(X_train, y_train, X_test, y_test):\n",
    "    classifier = DecisionTreeClassifier(criterion='entropy', random_state=0)\n",
    "    classifier.fit(X_train, y_train)\n",
    "    return cm_prediction(classifier, X_test, y_test)"
   ]
  },
  {
   "cell_type": "code",
   "execution_count": 27,
   "id": "0252c9a3-4458-4213-a2df-1a780d1d6a3a",
   "metadata": {},
   "outputs": [],
   "source": [
    "def random(X_train, y_train, X_test, y_test):\n",
    "    classifier = RandomForestClassifier(n_estimators=10, criterion='entropy', random_state=0)\n",
    "    classifier.fit(X_train, y_train)\n",
    "    return cm_prediction(classifier, X_test, y_test)"
   ]
  },
  {
   "cell_type": "code",
   "execution_count": 28,
   "id": "2b8dde3e-1c9d-449b-9c4c-83e846f228e8",
   "metadata": {},
   "outputs": [],
   "source": [
    "# Function to store the accuracy results in a dataframe\n",
    "#def pca_classification(acclog, accsvml, accsvmnl, accknn, accnav, accdes, accrf): \n",
    "#    dataframe = pd.DataFrame(index=['PCA'], columns=['Logistic', 'SVMl', 'SVMnl', 'KNN', 'Navie', 'Decision', 'Random'])\n",
    "#    dataframe['Logistic'] = acclog       \n",
    "#    dataframe['SVMl'] = accsvml\n",
    "#    dataframe['SVMnl'] = accsvmnl\n",
    "#    dataframe['KNN'] = accknn\n",
    "#    dataframe['Navie'] = accnav\n",
    "#    dataframe['Decision'] = accdes\n",
    "#    dataframe['Random'] = accrf\n",
    "#    return dataframe\n",
    "\n",
    "\n",
    "# Function to store the accuracy results in a dataframe\n",
    "#Inputs:\n",
    "\n",
    "#acclog, accsvml, accsvmnl, accknn, accnav, accdes, accrf: These are lists containing the accuracy scores for Logistic Regression, \n",
    "#SVM (linear and non-linear), KNN, Naive Bayes, Decision Tree, and Random Forest classifiers, respectively.\n",
    "#n_components: The number of PCA components used.\n",
    "#A DataFrame is initialized with the index labeled as PCA-{n_components}, where {n_components} represents the number of components.\n",
    "#The columns correspond to the different classifiers.\n",
    "def pca_classification(acclog, accsvml, accsvmnl, accknn, accnav, accdes, accrf, n_components): \n",
    "    dataframe = pd.DataFrame(index=[f'PCA-{n_components}'], columns=['Logistic', 'SVMl', 'SVMnl', 'KNN', 'Navie', 'Decision', 'Random'])\n",
    "    dataframe['Logistic'] = acclog       \n",
    "    dataframe['SVMl'] = accsvml\n",
    "    dataframe['SVMnl'] = accsvmnl\n",
    "    dataframe['KNN'] = accknn\n",
    "    dataframe['Navie'] = accnav\n",
    "    dataframe['Decision'] = accdes\n",
    "    dataframe['Random'] = accrf\n",
    "    return dataframe"
   ]
  },
  {
   "cell_type": "code",
   "execution_count": 29,
   "id": "7a82b4d3-c978-4187-82f0-dd4675d8cdcb",
   "metadata": {},
   "outputs": [],
   "source": [
    "# Loading the Wine dataset\n",
    "dataset = pd.read_csv(\"Wine.csv\")\n",
    "indep_X = dataset.iloc[:, 0:13].values\n",
    "dep_Y = dataset.iloc[:, 13].values"
   ]
  },
  {
   "cell_type": "code",
   "execution_count": 30,
   "id": "8dfabf84-1432-4323-bb20-52454c97c845",
   "metadata": {},
   "outputs": [
    {
     "name": "stdout",
     "output_type": "stream",
     "text": [
      "[[1.423e+01 1.710e+00 2.430e+00 ... 1.040e+00 3.920e+00 1.065e+03]\n",
      " [1.320e+01 1.780e+00 2.140e+00 ... 1.050e+00 3.400e+00 1.050e+03]\n",
      " [1.316e+01 2.360e+00 2.670e+00 ... 1.030e+00 3.170e+00 1.185e+03]\n",
      " ...\n",
      " [1.327e+01 4.280e+00 2.260e+00 ... 5.900e-01 1.560e+00 8.350e+02]\n",
      " [1.317e+01 2.590e+00 2.370e+00 ... 6.000e-01 1.620e+00 8.400e+02]\n",
      " [1.413e+01 4.100e+00 2.740e+00 ... 6.100e-01 1.600e+00 5.600e+02]]\n"
     ]
    }
   ],
   "source": [
    "print(indep_X)"
   ]
  },
  {
   "cell_type": "code",
   "execution_count": 31,
   "id": "245afac6-8277-433a-930d-cfc6e1ff76df",
   "metadata": {},
   "outputs": [
    {
     "name": "stdout",
     "output_type": "stream",
     "text": [
      "[1 1 1 1 1 1 1 1 1 1 1 1 1 1 1 1 1 1 1 1 1 1 1 1 1 1 1 1 1 1 1 1 1 1 1 1 1\n",
      " 1 1 1 1 1 1 1 1 1 1 1 1 1 1 1 1 1 1 1 1 1 1 2 2 2 2 2 2 2 2 2 2 2 2 2 2 2\n",
      " 2 2 2 2 2 2 2 2 2 2 2 2 2 2 2 2 2 2 2 2 2 2 2 2 2 2 2 2 2 2 2 2 2 2 2 2 2\n",
      " 2 2 2 2 2 2 2 2 2 2 2 2 2 2 2 2 2 2 2 3 3 3 3 3 3 3 3 3 3 3 3 3 3 3 3 3 3\n",
      " 3 3 3 3 3 3 3 3 3 3 3 3 3 3 3 3 3 3 3 3 3 3 3 3 3 3 3 3 3 3]\n"
     ]
    }
   ],
   "source": [
    "print(dep_Y)"
   ]
  },
  {
   "cell_type": "code",
   "execution_count": null,
   "id": "fcea4b5c-de9e-4f32-a456-6cd26abf7aba",
   "metadata": {},
   "outputs": [],
   "source": [
    "'''acclog = []\n",
    "accsvml = []\n",
    "accsvmnl = []\n",
    "accknn = []\n",
    "accnav = []\n",
    "accdes = []\n",
    "accrf = []\n",
    "\n",
    "X_train_pca, X_test_pca, y_train, y_test = split_pca(indep_X, dep_Y, n_components=2)\n",
    "\n",
    "# Applying classification models\n",
    "classifier, Accuracy, report, cm = logistic(X_train_pca, y_train, X_test_pca, y_test)\n",
    "acclog.append(Accuracy)\n",
    "\n",
    "classifier, Accuracy, report, cm = svm_linear(X_train_pca, y_train, X_test_pca, y_test)\n",
    "accsvml.append(Accuracy)\n",
    "\n",
    "classifier, Accuracy, report, cm = svm_nl(X_train_pca, y_train, X_test_pca, y_test)\n",
    "accsvmnl.append(Accuracy)\n",
    "\n",
    "classifier, Accuracy, report, cm = knn(X_train_pca, y_train, X_test_pca, y_test)\n",
    "accknn.append(Accuracy)\n",
    "\n",
    "classifier, Accuracy, report, cm = navie(X_train_pca, y_train, X_test_pca, y_test)\n",
    "accnav.append(Accuracy)\n",
    "\n",
    "classifier, Accuracy, report, cm = decision(X_train_pca, y_train, X_test_pca, y_test)\n",
    "accdes.append(Accuracy)\n",
    "\n",
    "classifier, Accuracy, report, cm = random(X_train_pca, y_train, X_test_pca, y_test)\n",
    "accrf.append(Accuracy)\n",
    "\n",
    "# Storing the results\n",
    "result = pca_classification(acclog, accsvml, accsvmnl, accknn, accnav, accdes, accrf)\n",
    "\n",
    "print(\"PCA Results:\\n\", result)'''\n"
   ]
  },
  {
   "cell_type": "code",
   "execution_count": 32,
   "id": "814f124b-d202-4c81-91ca-25200a1d45e5",
   "metadata": {},
   "outputs": [
    {
     "name": "stdout",
     "output_type": "stream",
     "text": [
      "PCA Results for different components:\n",
      "        Logistic      SVMl     SVMnl       KNN     Navie  Decision    Random\n",
      "PCA-2  0.977778  0.977778  0.977778  0.977778  0.977778  0.977778  0.977778\n",
      "PCA-3  0.977778  1.000000  1.000000  1.000000  1.000000  0.955556  0.955556\n",
      "PCA-4  0.977778  0.955556  0.977778  0.955556  1.000000  0.977778  0.911111\n",
      "PCA-5  0.977778  0.955556  1.000000  1.000000  1.000000  0.977778  0.977778\n"
     ]
    }
   ],
   "source": [
    "results = []\n",
    "\n",
    "# Looping through PCA components from 2 to 5\n",
    "for n_components in range(2, 6):\n",
    "    acclog = []\n",
    "    accsvml = []\n",
    "    accsvmnl = []\n",
    "    accknn = []\n",
    "    accnav = []\n",
    "    accdes = []\n",
    "    accrf = []\n",
    "\n",
    "    X_train_pca, X_test_pca, y_train, y_test = split_pca(indep_X, dep_Y, n_components=n_components)\n",
    "\n",
    "    # Applying classification models\n",
    "    classifier, Accuracy, report, cm = logistic(X_train_pca, y_train, X_test_pca, y_test)\n",
    "    acclog.append(Accuracy)\n",
    "\n",
    "    classifier, Accuracy, report, cm = svm_linear(X_train_pca, y_train, X_test_pca, y_test)\n",
    "    accsvml.append(Accuracy)\n",
    "\n",
    "    classifier, Accuracy, report, cm = svm_nl(X_train_pca, y_train, X_test_pca, y_test)\n",
    "    accsvmnl.append(Accuracy)\n",
    "\n",
    "    classifier, Accuracy, report, cm = knn(X_train_pca, y_train, X_test_pca, y_test)\n",
    "    accknn.append(Accuracy)\n",
    "\n",
    "    classifier, Accuracy, report, cm = navie(X_train_pca, y_train, X_test_pca, y_test)\n",
    "    accnav.append(Accuracy)\n",
    "\n",
    "    classifier, Accuracy, report, cm = decision(X_train_pca, y_train, X_test_pca, y_test)\n",
    "    accdes.append(Accuracy)\n",
    "\n",
    "    classifier, Accuracy, report, cm = random(X_train_pca, y_train, X_test_pca, y_test)\n",
    "    accrf.append(Accuracy)\n",
    "\n",
    "    # Storing the results for each n_components\n",
    "    result = pca_classification(acclog, accsvml, accsvmnl, accknn, accnav, accdes, accrf, n_components)\n",
    "    results.append(result)\n",
    "\n",
    "# Combine all results into a single DataFrame\n",
    "final_results = pd.concat(results)\n",
    "print(\"PCA Results for different components:\\n\", final_results)\n"
   ]
  },
  {
   "cell_type": "code",
   "execution_count": null,
   "id": "6375f90a-4d8d-437d-83e1-81d1962f585b",
   "metadata": {},
   "outputs": [],
   "source": []
  }
 ],
 "metadata": {
  "kernelspec": {
   "display_name": "Python 3 (ipykernel)",
   "language": "python",
   "name": "python3"
  },
  "language_info": {
   "codemirror_mode": {
    "name": "ipython",
    "version": 3
   },
   "file_extension": ".py",
   "mimetype": "text/x-python",
   "name": "python",
   "nbconvert_exporter": "python",
   "pygments_lexer": "ipython3",
   "version": "3.12.4"
  }
 },
 "nbformat": 4,
 "nbformat_minor": 5
}
